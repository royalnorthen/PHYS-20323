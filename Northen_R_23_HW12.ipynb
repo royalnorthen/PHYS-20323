{
 "cells": [
  {
   "cell_type": "markdown",
   "metadata": {},
   "source": [
    "# PyObject:  Object-oriented programming HW"
   ]
  },
  {
   "cell_type": "markdown",
   "metadata": {},
   "source": [
    "## Exercise 1  (from Monday's class)"
   ]
  },
  {
   "cell_type": "markdown",
   "metadata": {},
   "source": [
    "1. Write a ``Particle`` class that can be used to represent a particle with a mass, a 3-d position, and a 3-d velocity.\n",
    "\n",
    "2. Write a method that can be used to compute the kinetic energy of the particle\n",
    "\n",
    "3. Write a method that takes another particle as an argument and finds the distance between the two particles\n",
    "\n",
    "4. Write a method that given a time interval ``dt`` will update the position of the particle to the new position based on the current position and velocity.\n",
    "\n",
    "5. Write a ``ChargedParticle`` class that inherits from the ``Particle`` class, but also has an attribute for the charge of the particle.\n"
   ]
  },
  {
   "cell_type": "code",
   "execution_count": null,
   "metadata": {},
   "outputs": [],
   "source": [
    "import numpy as np\n",
    "# your solution here\n",
    "\n",
    "class ChargedParticle(Particle):\n",
    "\n",
    "    def __init__(self, mass, x, y, z, vx, vy, vz, charge):\n",
    "        self.mass = mass\n",
    "        self.x = x\n",
    "        self.y = y\n",
    "        self.z = z\n",
    "        self.vx = vx\n",
    "        self.vy = vy\n",
    "        self.vz = vz\n",
    "        self.charge = charge\n"
   ]
  },
  {
   "cell_type": "code",
   "execution_count": 19,
   "metadata": {},
   "outputs": [],
   "source": [
    "class Particle(object):\n",
    "    def __init__(self, x,y,z, vx,vy,vz, m):\n",
    "        self.x = x\n",
    "        self.y = y\n",
    "        self.z = z\n",
    "        \n",
    "        self.vx = vx\n",
    "        self.vy = vy\n",
    "        self.vz = vz\n",
    "        self.v = (vx**2 + vy**2 + vz**2)**0.5\n",
    "        \n",
    "        self.m = m\n",
    "        \n",
    "        self.K = 0.5 * m * (vx**2 + vy**2 + vz**2)\n",
    "        \n",
    "    def distance_from(self, other):\n",
    "        return ((self.x - other.x)**2 + (self.y - other.y)**2 + (self.z - other.z)**2)**0.5\n",
    "    \n",
    "    def advance(self, dt, announce=False):\n",
    "        self.x += self.vx * dt\n",
    "        self.y += self.vy * dt\n",
    "        self.z += self.vz * dt\n",
    "        if announce==True:\n",
    "            print(str(dt) + \" time intervals pass\")\n",
    "            \n",
    "    def charge_interaction(self, other, time=0):\n",
    "        interaction = False\n",
    "        if(self.distance_from(other) < 0.25):\n",
    "            if((self.q > 0 and other.q > 0) or (self.q < 0 and other.q < 0)):\n",
    "                interaction = True\n",
    "                self.q = 0\n",
    "                self.vx = 0\n",
    "                self.vy = 0\n",
    "                self.vz = 0\n",
    "                other.q = 0\n",
    "                other.vx = 0\n",
    "                other.vy = 0\n",
    "                other.vz = 0\n",
    "                print(\"merge\")\n",
    "            elif((self.q > 0 and other.q < 0) or (self.q < 0 and other.q > 0)):\n",
    "                interaction = True\n",
    "                self.vx *= -1 * (self.q/other.q) * (self.m/other.m)\n",
    "                self.vy *= -1 * (self.q/other.q) * (self.m/other.m)\n",
    "                self.vz *= -1 * (self.q/other.q) * (self.m/other.m)\n",
    "                other.vx *= -1 * (self.q/other.q) * (self.m/other.m)\n",
    "                other.vy *= -1 * (self.q/other.q) * (self.m/other.m)\n",
    "                other.vz *= -1 * (self.q/other.q) * (self.m/other.m)\n",
    "                print(\"repel\")\n",
    "        if interaction:\n",
    "            print(\"interaction at time = \" + str(time))\n",
    "        \n",
    "    def position(self):\n",
    "        print(self.x, self.y, self.z)\n",
    "    def velocity(self):\n",
    "        print(self.vx, self.vy, self.vz)\n",
    "        \n",
    "class ChargedParticle(Particle):\n",
    "    def __init__(self, x,y,z, vx,vy,vz, m, q):\n",
    "        Particle.__init__(self, x,y,z, vx,vy,vz, m)\n",
    "        self.q = q"
   ]
  },
  {
   "cell_type": "markdown",
   "metadata": {},
   "source": [
    "## Exercise 2  (New)"
   ]
  },
  {
   "cell_type": "markdown",
   "metadata": {},
   "source": [
    "6. Write a method that can be used to see if a particle is in the same place (e.g., find_seperation < 0.25).  If there are two ChargedParticles in the same place make a \"simple\" (*not correct physics*) \"interaction\". (__have the code print \"interaction\"__).   \n",
    "\n",
    "    a. If the charges are opposite, make them \"combine\", set both velocities to zero and set their charge to zero, and print \"merge\".\n",
    "\n",
    "    b. Else, make the particles \"repel\", to do:\n",
    "    \n",
    "        multiply each \"self\" velocity and  by (-1 * (self.charge+other.charge) * (self.mass/other.mass))  \n",
    "    \n",
    "        multiply each \"other\" velocity by (-1 * (self.charge+other.charge) * (other.mass/self.mass)) \n",
    "    \n",
    "    e.g., reversing it's velocity, and print \"repel\". __(Again this is bad physics, but we are focusing on coding so play along.)__\n",
    "\n",
    "\n",
    "7. To test the above, write a code with two particles starting:\n",
    "\n",
    "        P1 at (x,y,z) = (-5,-5,-5) with (vx,vy,vz) = (1,1,1) and (charge = 0.5) \n",
    "\n",
    "        P2 at (x,y,z) = (5,5,5) with (vx,vy,vz) = (-1,-1,-1) and (charge = -0.5).  \n",
    "\n",
    "    Use your dt time interval to move the particles in 0.25 time steps for 100 steps, and print the current poition and velocity of each particle at each time step.  \n",
    "    \n",
    "\n",
    "8. To test the above, write a code with two particles starting: \n",
    "\n",
    "        P1 at (x,y,z) = (-5,-5,-5) with (vx,vy,vz) = (2,2,2) and (charge = 0.5) \n",
    "\n",
    "        P2 at (x,y,z) = (5,5,5) with (vx,vy,vz) = (-2,-2,-2) and (charge = 2.0).  \n",
    "\n",
    "    Use your dt time interval to move the particles in 0.25 time steps for 100 steps, and print the current poition and velocity of each particle at each time step.  \n"
   ]
  },
  {
   "cell_type": "code",
   "execution_count": 22,
   "metadata": {},
   "outputs": [
    {
     "name": "stderr",
     "output_type": "stream",
     "text": [
      "C:\\Users\\royal\\AppData\\Local\\Temp\\ipykernel_16684\\2642697454.py:16: MatplotlibDeprecationWarning: Unable to determine Axes to steal space for Colorbar. Using gca(), but will raise in the future. Either provide the *cax* argument to use as the Axes for the Colorbar, provide the *ax* argument to steal space from it, or add *mappable* to an Axes.\n",
      "  bar = fig.colorbar(ScalarMappable(norm=Normalize(-10,10),cmap='viridis'),orientation=\"vertical\",pad=0.01)\n"
     ]
    },
    {
     "data": {
      "image/png": "[encoded data removed]",
      "text/plain": [
       "<Figure size 640x480 with 2 Axes>"
      ]
     },
     "metadata": {},
     "output_type": "display_data"
    },
    {
     "name": "stdout",
     "output_type": "stream",
     "text": [
      "merge\n",
      "interaction at time = 2.5\n"
     ]
    }
   ],
   "source": [
    "from time import sleep\n",
    "from matplotlib.cm import ScalarMappable\n",
    "from matplotlib.colors import Normalize\n",
    "#import matplotlib.lines.Line2D\n",
    "import matplotlib.pyplot as plt\n",
    "\n",
    "universal_time = 0\n",
    "particles = []\n",
    "\n",
    "fig = plt.figure()\n",
    "ax = fig.add_subplot(111)\n",
    "\n",
    "plt.xlim(-10,10)\n",
    "plt.ylim(-10,10)\n",
    "\n",
    "bar = fig.colorbar(ScalarMappable(norm=Normalize(-10,10),cmap='viridis'),orientation=\"vertical\",pad=0.01)\n",
    "bar.set_label('Z',size=15)\n",
    "\n",
    "ax.set_xlabel(\"X\",size=20)\n",
    "ax.set_ylabel(\"Y\",size=20)\n",
    "\n",
    "P1 = ChargedParticle(-5,-5,-5, 2,2,2, 50, 0.5)\n",
    "P2 = ChargedParticle(5,5,5, -2,-2,-2, 3, 2.0)        \n",
    "\n",
    "for i in range(100):\n",
    "    P1.charge_interaction(P2, universal_time)\n",
    "    \n",
    "    P1.advance(0.25)\n",
    "    P2.advance(0.25)\n",
    "    universal_time += 0.25\n",
    "    \n",
    "    #pZ = [P1.z,P2.z]\n",
    "    #removable_particles = plt.plot(*zip(*particles),c=pZ, cmap=\"viridis\")\n",
    "    #removable_particles.set_visible(False)\n",
    "    #scatter.remove()\n",
    "    particles = []\n",
    "    particles.append((P1.x,P1.y,P1.z))\n",
    "    particles.append((P2.x,P2.y,P2.z))\n",
    "    for p in particles:\n",
    "        scatter = ax.scatter(p[0], p[1], c=p[2], cmap=\"viridis\")\n",
    "    plt.show()\n",
    "    \n",
    "    \n",
    "    sleep(0.2)\n",
    "    scatter.remove()\n",
    "    \n",
    "            "
   ]
  },
  {
   "cell_type": "code",
   "execution_count": null,
   "metadata": {},
   "outputs": [],
   "source": []
  }
 ],
 "metadata": {
  "kernelspec": {
   "display_name": "Python 3 (ipykernel)",
   "language": "python",
   "name": "python3"
  },
  "language_info": {
   "codemirror_mode": {
    "name": "ipython",
    "version": 3
   },
   "file_extension": ".py",
   "mimetype": "text/x-python",
   "name": "python",
   "nbconvert_exporter": "python",
   "pygments_lexer": "ipython3",
   "version": "3.11.4"
  }
 },
 "nbformat": 4,
 "nbformat_minor": 2
}
