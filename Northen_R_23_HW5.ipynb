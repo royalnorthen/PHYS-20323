{
 "cells": [
  {
   "cell_type": "markdown",
   "metadata": {},
   "source": [
    "# Lecture 11 - Number Representation and Precision + HW 5"
   ]
  },
  {
   "cell_type": "markdown",
   "metadata": {},
   "source": [
    "Real numbers are stored with a decimal precision (or mantissa) and the decimal exponent range. The mantissa contains the significant figures of the number (and thereby the precision of the number). A number like (9.90625)10 in the decimal representation is given in a binary representation by\n",
    "\n",
    "(1001.11101)$_2$ = $1\\times2^3 +0\\times2^2 +0\\times2^1 +1\\times2^0 +1\\times2^{−1} +1\\times2^{−2} +1\\times2^{−3} +0\\times2^{−4} +1 \\times 2^{−5}$\n",
    "\n",
    "and it has an exact machine number representation since we need a finite number of bits to represent this number. This representation is however not very practical. Rather, we prefer to use a scientific notation. In the decimal system we would write a number like 9.90625 in what is called the normalized scientific notation. This means simply that the decimal point is shifted and appropriate powers of 10 are supplied. Our number could then be written as\n",
    "$9.90625 = 0.990625 \\times 10^1$,\n",
    "and a real non-zero number could be generalized as\n",
    "$x = \\pm r \\times 10^n$,\n",
    "with a $r$ a number in the range $1/10 \\le r < 1$. In a similar way we can represent a binary number in\n",
    "scientific notation as\n",
    "$x = \\pm q \\times 2^m$,\n",
    "with a $q$ a number in the range $1/2 \\le q < 1$."
   ]
  },
  {
   "cell_type": "markdown",
   "metadata": {},
   "source": [
    "In a typical computer, floating-point numbers are represented in the way described above, but with certain restrictions on q and m imposed by the available word length. In the machine, our number x is represented as\n",
    "\n",
    "$x = (−1)^s \\times mantissa \\times 2^{exponent}$\n",
    "\n",
    "where $s$ is the sign bit, and the exponent gives the available range. With a single-precision word, 32 bits, 8 bits would typically be reserved for the exponent, 1 bit for the sign and 23 for the mantissa. "
   ]
  },
  {
   "cell_type": "markdown",
   "metadata": {},
   "source": [
    "## 32-bit – single precision (old computers):\n",
    "\n",
    "Sign bit: 1 bit\n",
    "\n",
    "Exponent: 8 bits\n",
    "\n",
    "Significand precision: 24 bits (23 explicitly stored)\n",
    "\n",
    "This gives 6–9 significant decimal digits precision!"
   ]
  },
  {
   "cell_type": "markdown",
   "metadata": {},
   "source": [
    "## 64-bit = double precision (normal modern computers):\n",
    "\n",
    "Sign bit: 1 bit\n",
    "\n",
    "Exponent: 11 bits\n",
    "\n",
    "Significand precision: 53 bits (52 explicitly stored)\n",
    "\n",
    "This gives 15–17 significant decimal digits precision.\n",
    "This the the Python default standard\n"
   ]
  },
  {
   "cell_type": "markdown",
   "metadata": {},
   "source": [
    "## 128-bit = quadruple precision:\n",
    "\n",
    "Sign bit: 1 bit\n",
    "\n",
    "Exponent: 15 bits\n",
    "\n",
    "Significand precision: 113 bits (112 explicitly stored)\n",
    "\n",
    "This gives 33–36 significant decimal digits precision.\n"
   ]
  },
  {
   "cell_type": "markdown",
   "metadata": {},
   "source": [
    "## 256-bit – Octuple precision:\n",
    "\n",
    "Sign bit: 1 bit\n",
    "    \n",
    "Exponent: 19 bits\n",
    "    \n",
    "Significand precision: 237 bits (236 explicitly stored)\n",
    "\n",
    "THIS IS RARELY IMPLEMENTED\n",
    "\n",
    "Max unsigned integer is: 115792089237316195423570985008687907853269984665640564039457584007913129639935\n",
    "\n"
   ]
  },
  {
   "cell_type": "code",
   "execution_count": 1,
   "metadata": {},
   "outputs": [
    {
     "name": "stdout",
     "output_type": "stream",
     "text": [
      "115792089237316195423570985008687907853269984665640564039457584007913129639936\n"
     ]
    }
   ],
   "source": [
    "a = 115792089237316195423570985008687907853269984665640564039457584007913129639935\n",
    "print(a+1)"
   ]
  },
  {
   "cell_type": "code",
   "execution_count": 4,
   "metadata": {},
   "outputs": [
    {
     "name": "stdout",
     "output_type": "stream",
     "text": [
      "187749072224295762487282918043534149672470009810028327446062532949263717368094595923465008727737014769130160948411051059485564164182153874196950435552879718624365423313694227390450851330343711689935848134801454479452236383544175069230786156562673478127287834629561136415282322061884970863560957943980473497161795067094839372713195277878126607519101864216357682027294247088488709913759306446519786640314684494037579175422759055080119584317475679273707842004769937964773651689203761662497006906192781194712665117450234197501581159700457435776305532100727953999182743737321174896957402403481225775108622900366247768195613583633077733498689657718719073894242640893622358909919391310419363744302888613106412494585663124158873322158701865833814801200078566169254265058058401582608769455899324144154670168473960230403916721680620924032140702685463507374805943116366643993058390580973218534323208993310889859982309962312410576406282505608783801138611851571554114064110955106944256385359040917780134268363444126359984978415059796682118439601321232826463726674988839895206864412280068688795092686891613454063223122598324297631852245564736404211730314484407444734318401581579243647717269916717263114298560414501969424832425950418792239443466373677214008863061151010023684343246201419622680508750833661281697881390561634813410135722900527753232279675068427922114187633030407237106431113798296134704756394641893135981257117900002633496499053162212731471577094273597973728614345076355379119120686971818556478791434529282895631175611874992256259918212890625\n"
     ]
    }
   ],
   "source": [
    "print(a**20)"
   ]
  },
  {
   "cell_type": "markdown",
   "metadata": {},
   "source": [
    "Python 3 has NO real interger limit length!! "
   ]
  },
  {
   "cell_type": "markdown",
   "metadata": {},
   "source": [
    "# Precision effects"
   ]
  },
  {
   "cell_type": "markdown",
   "metadata": {},
   "source": [
    "One important consequence of rounding error is that you should **NEVER Use an if statment to test equality of two floats.**  For instance, you should nerev, in any program, have a statment like:"
   ]
  },
  {
   "cell_type": "code",
   "execution_count": null,
   "metadata": {},
   "outputs": [],
   "source": [
    "x = 3 * 1.1\n",
    "if x == 3.3:\n",
    "    print(\"x = \",x,\"and we have trigged the proper logic\")\n",
    "else:\n",
    "    print(\"What is x really :\", x)"
   ]
  },
  {
   "cell_type": "markdown",
   "metadata": {},
   "source": [
    "If you need to do a logic trigger based on a float:"
   ]
  },
  {
   "cell_type": "code",
   "execution_count": null,
   "metadata": {},
   "outputs": [],
   "source": [
    "epsilon = 1e-12\n",
    "if abs(x-3.3) < epsilon:\n",
    "    print(\"x = \",x,\"and we have trigged the proper logic\")\n",
    "else:\n",
    "    print(\"what is x really :\", x)"
   ]
  },
  {
   "cell_type": "markdown",
   "metadata": {},
   "source": [
    "## Which operations are most important in dealing with precision?\n",
    "\n",
    "__Subtraction__ and __Derivatives__"
   ]
  },
  {
   "cell_type": "markdown",
   "metadata": {},
   "source": [
    "## Subtraction\n",
    "\n",
    "a = b - c\n",
    "\n",
    "We have:   $fl(a) = fl(b) - fl(c) = a(1+\\epsilon_a)$  or\n",
    "            $fl(a) = b(1+\\epsilon_b) - c(1+\\epsilon_c)$\n",
    "            \n",
    "So, $fl(a)/a = 1 + \\epsilon_b (b/a) - \\epsilon_c (c/a)$\n",
    "\n",
    "IF $b \\sim c$, we have the potential of increased error on $fl(a)$\n",
    "\n",
    "\n",
    "If we have:\n",
    "\n",
    "$x = 1000000000000000$\n",
    "\n",
    "$y = 1000000000000001.2345678901234$\n",
    "\n",
    "as far the computer is concerned:\n",
    "    "
   ]
  },
  {
   "cell_type": "code",
   "execution_count": 5,
   "metadata": {},
   "outputs": [
    {
     "name": "stdout",
     "output_type": "stream",
     "text": [
      "1.25\n"
     ]
    }
   ],
   "source": [
    "x = 1000000000000000.0000000000000\n",
    "y = 1000000000000001.2345678901234\n",
    " \n",
    "print(y-x) \n"
   ]
  },
  {
   "cell_type": "markdown",
   "metadata": {},
   "source": [
    "**The true result should be 1.2345678901234!**\n",
    "\n",
    "In other words, instead of 16-figure accuracy we now only have three figures and the fractional error is a few percent of the true value.  This is much worse than before!\n",
    "\n",
    "\n",
    "To see another exanple of this in practice, consider two numbers:\n",
    "\n",
    "$x = 1$, and $ y = 1+10^{-14}\\sqrt 2$ \n",
    "\n",
    "Simply we can see that:\n",
    "\n",
    "$ 10^{14} (y - x) = \\sqrt 2$\n",
    "\n",
    "Let us try the same calculation in python:\n",
    " "
   ]
  },
  {
   "cell_type": "code",
   "execution_count": 6,
   "metadata": {},
   "outputs": [
    {
     "name": "stdout",
     "output_type": "stream",
     "text": [
      "1.4210854715202004\n",
      "1.4142135623730951\n",
      "Difference is: 0.006871909147105226\n"
     ]
    }
   ],
   "source": [
    "from math import sqrt\n",
    "x = 1.0\n",
    "y = 1.0 + (1e-14)*sqrt(2)\n",
    "\n",
    "print((1e14)*(y-x))\n",
    "print(sqrt(2))\n",
    "print(\"Difference is:\",(1e14)*(y-x)-sqrt(2))\n"
   ]
  },
  {
   "cell_type": "markdown",
   "metadata": {},
   "source": [
    "Again error off by a percent.  We need to be careful in how we code math!"
   ]
  },
  {
   "cell_type": "markdown",
   "metadata": {},
   "source": [
    "## Example 1:  Summing $1/n$ \n",
    "\n",
    "Consider the series:\n",
    "\n",
    "$$s_1 = \\sum_{n=1}^N \\frac{1}{n}$$ which is finite when N is finite, then consider\n",
    "\n",
    "$$s_2 = \\sum_{n=N}^1 \\frac{1}{n}$$ which when summed analyitically should give $s_2 = s_1$"
   ]
  },
  {
   "cell_type": "markdown",
   "metadata": {},
   "source": [
    "Write a code to perform both of these to sums for N = 1e8 and compare"
   ]
  },
  {
   "cell_type": "code",
   "execution_count": 10,
   "metadata": {},
   "outputs": [
    {
     "name": "stdout",
     "output_type": "stream",
     "text": [
      "18.997896413852555 18.997896413853447 Diff: -8.917311333789257e-13\n"
     ]
    }
   ],
   "source": [
    "s1, s2 = 0, 0\n",
    "\n",
    "N = 1e8\n",
    "\n",
    "# Write a code to perform both of these to sums for N = 1e8 and compare\n",
    "for x in range(1, int(N+1)):\n",
    "    s1 += 1/x\n",
    "    \n",
    "for x in range(1, int(N+1)):\n",
    "    s2 += 1/(N-(x-1))\n",
    "\n",
    "print(s1, s2, \"Diff:\", s1-s2)\n"
   ]
  },
  {
   "cell_type": "markdown",
   "metadata": {},
   "source": [
    "## Example 2: $e^{-x}$\n",
    "\n",
    "There are three possible algorithms for $e^{-x}$\n",
    "\n",
    "1) **Simple:** $$e^{-x} = \\sum_{n=0}^{\\infty} (-1)^n \\; \\frac{x^n}{n!}$$  \n",
    "\n",
    "\n",
    "2) **Inverse:**  $$e^{x} = {\\sum_{n=0}^{\\infty} \\frac{x^n}{n!}}$$  Then take the inverse:   $$e^{-x} = \\frac{1}{e^{x}}$$\n",
    "\n",
    "\n",
    "3) **Recursion: (see example below)** $$e^{-x} = \\sum_{n=0}^{\\infty} s_n = \\sum_{n=0}^{\\infty} (-1)^n \\; \\frac{x^n}{n!}$$  where  $$ s_n = -s_{n-1} \\frac{x}{n}$$ and $$s_0 = 1$$\n",
    "\n",
    "\n"
   ]
  },
  {
   "cell_type": "code",
   "execution_count": 33,
   "metadata": {},
   "outputs": [
    {
     "name": "stdout",
     "output_type": "stream",
     "text": [
      "'x' simple inverse recurse numpy\n",
      "--- ------ ------- ------- -----\n",
      "1 , 0.36787944117144245 , 0.3678794411714423 , 0.36787944117144245 , 0.36787944117144233\n",
      "\n",
      "\n",
      "'x' simple inverse recurse numpy\n",
      "--- ------ ------- ------- -----\n",
      "11 , 1.670170206765736e-05 , 1.670170079024566e-05 , 1.6701701266058984e-05 , 1.670170079024566e-05\n",
      "\n",
      "\n",
      "'x' simple inverse recurse numpy\n",
      "--- ------ ------- ------- -----\n",
      "21 , 4.67354049567923e-09 , 7.58256042791191e-10 , -3.1648595607706816e-09 , 7.582560427911907e-10\n",
      "\n",
      "\n",
      "'x' simple inverse recurse numpy\n",
      "--- ------ ------- ------- -----\n",
      "31 , -0.00015587898712317639 , 3.442477108469977e-14 , 0.0003068088967300021 , 3.442477108469977e-14\n",
      "\n",
      "\n",
      "'x' simple inverse recurse numpy\n",
      "--- ------ ------- ------- -----\n",
      "41 , -5.814920105652159 , 1.5628821893349876e-18 , -1.3889553949418647 , 1.5628821893349888e-18\n",
      "\n",
      "\n",
      "'x' simple inverse recurse numpy\n",
      "--- ------ ------- ------- -----\n",
      "51 , 76244.20932341686 , 7.095474162284701e-23 , -94010.44750307851 , 7.095474162284704e-23\n",
      "\n",
      "\n",
      "'x' simple inverse recurse numpy\n",
      "--- ------ ------- ------- -----\n",
      "61 , -796366713.3649879 , 3.2213402859925156e-27 , 1588654552.269716 , 3.221340285992516e-27\n",
      "\n",
      "\n",
      "'x' simple inverse recurse numpy\n",
      "--- ------ ------- ------- -----\n",
      "71 , 10409215397141.691 , 1.4624862272512314e-31 , -87689814110202.25 , 1.462486227251231e-31\n",
      "\n",
      "\n",
      "'x' simple inverse recurse numpy\n",
      "--- ------ ------- ------- -----\n",
      "81 , 4.6659503093349344e+17 , 6.639677199580732e-36 , -3.9695519254187226e+17 , 6.639677199580735e-36\n",
      "\n",
      "\n",
      "'x' simple inverse recurse numpy\n",
      "--- ------ ------- ------- -----\n",
      "91 , 5.3994744324705286e+22 , 3.014408785065375e-40 , -2.4017345280315123e+22 , 3.0144087850653746e-40\n",
      "\n",
      "\n"
     ]
    }
   ],
   "source": [
    "import numpy as np\n",
    "np.exp(-1)\n",
    "\n",
    "# write a function to compute e^-X for all three methods \n",
    "# Then chack their output for x = 0 - 100, in steps of 10 and \n",
    "# Compare to the numpy version of exp(-x) which is imported above. \n",
    "def e_minusx_simple(x):\n",
    "    # code here\n",
    "    emxsmp = 1\n",
    "    ifact = 1\n",
    "    for i in range(1, 5000):\n",
    "        ifact *= i\n",
    "        emxsmp += ((-1)**i) * (x**i)/(ifact)\n",
    "    \n",
    "    return emxsmp\n",
    "\n",
    "def e_minusx_inverse(x):\n",
    "    # code here\n",
    "    emxinvA = 1\n",
    "    ifact = 1\n",
    "    for i in range(1, 5000):\n",
    "        ifact *= i\n",
    "        emxinvA += (x**i)/(ifact)\n",
    "    emxinv = 1 / emxinvA\n",
    "    \n",
    "    return emxinv\n",
    "\n",
    "# note use a function for s_n (See example below)\n",
    "def s_n(x, n):\n",
    "    output = 0\n",
    "    if n > 0:\n",
    "        output = (-1) * s_n(x, n-1) * x / n\n",
    "    else:\n",
    "        output = 1\n",
    "    return output\n",
    "    \n",
    "\n",
    "def e_minusx_recurse(x):\n",
    "    # code here\n",
    "    emxrec = 1\n",
    "    for i in range(1, 1000):\n",
    "        emxrec += s_n(x, i)\n",
    "    \n",
    "    return emxrec\n",
    "\n",
    "\n",
    "# main code here\n",
    "for x in range(1, 100, 10):\n",
    "    print(\"'x' simple inverse recurse numpy\")\n",
    "    print(\"--- ------ ------- ------- -----\")\n",
    "    print(x,\",\", e_minusx_simple(x),\",\", e_minusx_inverse(x),\",\", e_minusx_recurse(x),\",\", np.exp(-1*x))\n",
    "    print(\"\\n\")"
   ]
  },
  {
   "cell_type": "markdown",
   "metadata": {},
   "source": [
    "### Recursion Example"
   ]
  },
  {
   "cell_type": "code",
   "execution_count": null,
   "metadata": {},
   "outputs": [],
   "source": [
    "def factorial(x):\n",
    "    \"\"\"This is a recursive function to find the factorial of an integer\"\"\"\n",
    "    if x == 1:\n",
    "        return 1\n",
    "    else:\n",
    "        return (x * factorial(x-1))\n",
    "# Testing it below.\n",
    "num = 5\n",
    "print(\"The factorial of\", num, \"is\", factorial(num))"
   ]
  },
  {
   "cell_type": "markdown",
   "metadata": {},
   "source": [
    "## Homework #5 \n",
    "\n",
    "**REMINDER:** *All coding assignment will be turned in as .ipynb files, to the same PHYS_X0223 repository on GitHub.*   \n",
    "*They should be turned in with the following naming:*\n",
    "    \n",
    "    Lastname_Firstinitial_23_HW#.ipynb\n",
    "    "
   ]
  },
  {
   "cell_type": "markdown",
   "metadata": {},
   "source": [
    "**The semi-empirical mass formula**\n",
    "\n",
    "In nuclear physics, the semi-empirical mass formula is a formula for calculating the\n",
    "approximate nuclear binding energy $B$ of an atomic nucleus with atomic number $Z$\n",
    "and mass number $A$. The formula looks like this:\n",
    "    \n",
    "$$ B = a_1 A - a_2 A^{2/3} - a_3 \\frac{Z^2}{A^{1/3}} - a_4 \\frac{(A - 2Z)^2}{A} - \\frac{a_5}{A^{1/2}} $$\n",
    "\n",
    "where, in units of millions of electron volts (MeV), the constants are $a_1 =\n",
    "15.67$, $a_2 = 17.23$, $a_3 = 0.75$, $a_4 = 93.2$, and\n",
    "\n",
    "$$ a_5  \\; =  \\;\\; \\left\\{ \\begin{array} {r@{\\quad\\tt if \\quad}l} 0 & A \\;{\\tt is\n",
    "      \\; odd}, \\\\\n",
    "    12.0 & A \\;{\\tt and}\\; Z \\;{\\tt are \\;both \\;even}, \\\\ -12.0 & A \\;{\\tt is\n",
    "     \\;  even \\; and}\\;  Z \\;{\\tt is\n",
    "  \\;  odd.} \\end{array} \\right. $$\n",
    "\n",
    "Write a **function** that takes as its input the values of $A$ and $Z$, and\n",
    "prints out: \n",
    "* (a) the binding energy $B$ for the corresponding atom and \n",
    "* (b) the binding energy per nucleon, which is $B/A$. \n",
    "\n",
    "Use your program to find\n",
    "the binding energy of an atom with $A = 58$ and $Z = 28$. (Hint: The\n",
    "correct answer is around 490 MeV.) \n",
    "\n",
    "\n",
    "\n"
   ]
  },
  {
   "cell_type": "code",
   "execution_count": 17,
   "metadata": {},
   "outputs": [
    {
     "name": "stdout",
     "output_type": "stream",
     "text": [
      "490.78425241273493\n"
     ]
    }
   ],
   "source": [
    "def binding_energy(A, Z):\n",
    "    B = (15.67*A) - (17.23*(A**(2/3))) - (0.75*Z*Z/(A**(1/3))) - (93.2*((A-(2*Z))**2)/A)\n",
    "    \n",
    "    if A % 2 == 1:\n",
    "        return B\n",
    "        \n",
    "    elif Z % 2 == 0:\n",
    "        B -= 12/(A**0.5)\n",
    "        return B\n",
    "        \n",
    "    else:\n",
    "        B += 12/(A**0.5)\n",
    "        return B\n",
    "        \n",
    "print(binding_energy(58, 28))"
   ]
  },
  {
   "cell_type": "markdown",
   "metadata": {},
   "source": [
    "Also run for,  $A = 59$ and $Z = 28$ **AND** $A = 58$ and $Z = 27$."
   ]
  },
  {
   "cell_type": "code",
   "execution_count": 18,
   "metadata": {},
   "outputs": [
    {
     "name": "stdout",
     "output_type": "stream",
     "text": [
      "498.144677545714\n",
      "485.30934897614435\n"
     ]
    }
   ],
   "source": [
    "print(binding_energy(59, 28))\n",
    "print(binding_energy(58, 27))"
   ]
  },
  {
   "cell_type": "code",
   "execution_count": null,
   "metadata": {},
   "outputs": [],
   "source": []
  }
 ],
 "metadata": {
  "kernelspec": {
   "display_name": "Python 3 (ipykernel)",
   "language": "python",
   "name": "python3"
  },
  "language_info": {
   "codemirror_mode": {
    "name": "ipython",
    "version": 3
   },
   "file_extension": ".py",
   "mimetype": "text/x-python",
   "name": "python",
   "nbconvert_exporter": "python",
   "pygments_lexer": "ipython3",
   "version": "3.11.4"
  }
 },
 "nbformat": 4,
 "nbformat_minor": 4
}
